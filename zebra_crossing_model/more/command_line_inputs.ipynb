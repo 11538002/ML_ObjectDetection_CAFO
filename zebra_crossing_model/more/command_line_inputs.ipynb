{
 "cells": [
  {
   "cell_type": "markdown",
   "metadata": {},
   "source": [
    "# Tensor flow training command line inputs for zebra-crossing model"
   ]
  },
  {
   "cell_type": "markdown",
   "metadata": {},
   "source": [
    "## 1. Image export\n",
    "\n",
    "> Done with the help of the notebook file `Step1_DataPreparation.ipynb`"
   ]
  },
  {
   "cell_type": "markdown",
   "metadata": {},
   "source": [
    "## 2. Labelling\n",
    "\n",
    "> Done manually with the help of the __lablemg.exe__\n",
    "(_this is followed by the splitting  of 'train' and 'test' images_)"
   ]
  },
  {
   "cell_type": "markdown",
   "metadata": {},
   "source": [
    "## 3. xml to csv\n",
    "\n",
    "> Done using first part of the notebook file `Step4_CreateTFRecords.ipynb` "
   ]
  },
  {
   "cell_type": "markdown",
   "metadata": {},
   "source": [
    "## 4. csv to TFRecords\n",
    "\n",
    "### For zebra-crossing\n",
    "* `python 3_generate_tfrecord.py --csv_input=data/train_labels.csv --output_path=data/train.record`\n",
    "\n",
    "### For CAFO\n",
    "* `python 3_generate_tfrecord.py --csv_input=cafo_data/train_labels.csv --output_path=cafo_data/train.record`"
   ]
  },
  {
   "cell_type": "markdown",
   "metadata": {},
   "source": [
    "## 5. setup of the config the files\n",
    "> Explained in the notebook file `Step5_SetConfigFiles.ipynb`"
   ]
  },
  {
   "cell_type": "markdown",
   "metadata": {},
   "source": [
    "## 6. Training\n",
    "\n",
    "### For zebra-crossing\n",
    "* `python 4_train.py --logtostderr --train_dir=training/ --pipeline_config_path=training/ssd_mobilenet_v1_zebracross.config`\n",
    "\n",
    "### For CAFO\n",
    "* `python 4_train.py --logtostderr --train_dir=cafo_training/ --pipeline_config_path=cafo_training/ssd_mobilenet_v1_cafo.config`"
   ]
  },
  {
   "cell_type": "markdown",
   "metadata": {},
   "source": [
    "## 7. Export inference graph\n",
    "\n",
    "### For zebra-crossing\n",
    "* `python 5_export_inference_graph.py --input_type=image_tensor --pipeline_config_path=training/ssd_mobilenet_v1_zebracross.config --trained_checkpoint_prefix=training/model.ckpt-46420 --output_directory=zebracross_inference_graph`\n",
    "\n",
    "### For CAFO\n",
    "* `python 5_export_inference_graph.py --input_type=image_tensor --pipeline_config_path=cafo_training/ssd_mobilenet_v1_cafo.config --trained_checkpoint_prefix=cafo_training/model.ckpt-105940 --output_directory=cafo_inference_graph`"
   ]
  },
  {
   "cell_type": "markdown",
   "metadata": {},
   "source": [
    "## 8. Detection of the sites using a screencap\n",
    "> The detection of the sites can be viewed live with the help of the notebook file `object_detection_zebracross_screencap.ipynb`. This notebook reads the pixels of at the top-left quadrant of the screen. The detections are viewed live with its label and the confidence."
   ]
  },
  {
   "cell_type": "code",
   "execution_count": null,
   "metadata": {
    "collapsed": true
   },
   "outputs": [],
   "source": []
  }
 ],
 "metadata": {
  "kernelspec": {
   "display_name": "Python 3",
   "language": "python",
   "name": "python3"
  },
  "language_info": {
   "codemirror_mode": {
    "name": "ipython",
    "version": 3
   },
   "file_extension": ".py",
   "mimetype": "text/x-python",
   "name": "python",
   "nbconvert_exporter": "python",
   "pygments_lexer": "ipython3",
   "version": "3.6.3"
  }
 },
 "nbformat": 4,
 "nbformat_minor": 2
}
